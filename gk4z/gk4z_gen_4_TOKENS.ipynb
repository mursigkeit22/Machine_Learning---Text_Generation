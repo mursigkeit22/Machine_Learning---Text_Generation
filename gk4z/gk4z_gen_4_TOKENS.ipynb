{
 "cells": [
  {
   "cell_type": "code",
   "execution_count": 2,
   "metadata": {
    "colab": {
     "base_uri": "https://localhost:8080/",
     "height": 35
    },
    "colab_type": "code",
    "executionInfo": {
     "elapsed": 1783,
     "status": "ok",
     "timestamp": 1556852963672,
     "user": {
      "displayName": "Valerie Shelgunova",
      "photoUrl": "https://lh5.googleusercontent.com/-i2CX_QSsamo/AAAAAAAAAAI/AAAAAAAAAB8/YRSVdMujpXw/s64/photo.jpg",
      "userId": "14712883095412086889"
     },
     "user_tz": -180
    },
    "id": "_f5G7kIMwPN0",
    "outputId": "155a6365-405d-4934-faad-8229cba881ca"
   },
   "outputs": [
    {
     "name": "stderr",
     "output_type": "stream",
     "text": [
      "Using TensorFlow backend.\n"
     ]
    }
   ],
   "source": [
    "import sys\n",
    "import numpy\n",
    "import pandas as pd\n",
    "from keras.models import Sequential\n",
    "from keras.layers import Dense\n",
    "from keras.layers import Dropout\n",
    "from keras.layers import LSTM\n",
    "from keras.callbacks import ModelCheckpoint\n",
    "from keras.utils import np_utils\n",
    "from keras.preprocessing.text import Tokenizer\n",
    "from keras import layers\n",
    "\n"
   ]
  },
  {
   "cell_type": "code",
   "execution_count": 3,
   "metadata": {
    "colab": {},
    "colab_type": "code",
    "id": "tiPwjC2-qWUH"
   },
   "outputs": [],
   "source": [
    "from numpy import array\n",
    "from pickle import dump\n",
    "from random import randint\n",
    "from pickle import load\n",
    "from keras.models import load_model\n",
    "from keras.preprocessing.sequence import pad_sequences"
   ]
  },
  {
   "cell_type": "code",
   "execution_count": 4,
   "metadata": {
    "colab": {},
    "colab_type": "code",
    "id": "5Lq3s42y2qCn"
   },
   "outputs": [],
   "source": [
    "def load_doc(filename):\n",
    "\t# open the file as read only\n",
    "\tfile = open(filename, 'r', encoding='utf-8')\n",
    "\t# read all text\n",
    "\ttext = file.read()\n",
    "\t# close the file\n",
    "\tfile.close()\n",
    "\treturn text"
   ]
  },
  {
   "cell_type": "code",
   "execution_count": 5,
   "metadata": {
    "colab": {},
    "colab_type": "code",
    "id": "ilUev55f2Y2R"
   },
   "outputs": [],
   "source": [
    "in_filename = 'three_seq.txt'\n",
    "doc = load_doc(in_filename)\n",
    "lines = doc.split('\\n')"
   ]
  },
  {
   "cell_type": "code",
   "execution_count": 6,
   "metadata": {
    "colab": {
     "base_uri": "https://localhost:8080/",
     "height": 35
    },
    "colab_type": "code",
    "executionInfo": {
     "elapsed": 858,
     "status": "ok",
     "timestamp": 1556820356761,
     "user": {
      "displayName": "Valerie Shelgunova",
      "photoUrl": "https://lh5.googleusercontent.com/-i2CX_QSsamo/AAAAAAAAAAI/AAAAAAAAAB8/YRSVdMujpXw/s64/photo.jpg",
      "userId": "14712883095412086889"
     },
     "user_tz": -180
    },
    "id": "FPRpIkC3whiK",
    "outputId": "93d5a602-c36f-40cc-ad62-fe90af6b4e89"
   },
   "outputs": [
    {
     "data": {
      "text/plain": [
       "373908"
      ]
     },
     "execution_count": 6,
     "metadata": {},
     "output_type": "execute_result"
    }
   ],
   "source": [
    "len(lines)"
   ]
  },
  {
   "cell_type": "code",
   "execution_count": 7,
   "metadata": {
    "colab": {},
    "colab_type": "code",
    "id": "V2cX9pFgwhfK"
   },
   "outputs": [],
   "source": [
    "lines = lines[0:300000]"
   ]
  },
  {
   "cell_type": "code",
   "execution_count": 8,
   "metadata": {
    "colab": {},
    "colab_type": "code",
    "id": "ag1xggWZxU_7"
   },
   "outputs": [],
   "source": [
    "# tokenizer = Tokenizer()\n",
    "# load the tokenizer\n",
    "tokenizer = load(open('tokenizer_gen_4_TOKENS.pkl', 'rb'))"
   ]
  },
  {
   "cell_type": "code",
   "execution_count": 9,
   "metadata": {
    "colab": {},
    "colab_type": "code",
    "id": "W17hoRlkwhbt"
   },
   "outputs": [],
   "source": [
    "tokenizer.fit_on_texts(lines)\n"
   ]
  },
  {
   "cell_type": "code",
   "execution_count": 10,
   "metadata": {
    "colab": {},
    "colab_type": "code",
    "id": "c3gStv0hsH2c"
   },
   "outputs": [],
   "source": [
    "sequences = tokenizer.texts_to_sequences(lines)"
   ]
  },
  {
   "cell_type": "code",
   "execution_count": 11,
   "metadata": {
    "colab": {
     "base_uri": "https://localhost:8080/",
     "height": 35
    },
    "colab_type": "code",
    "executionInfo": {
     "elapsed": 634,
     "status": "ok",
     "timestamp": 1556853361419,
     "user": {
      "displayName": "Valerie Shelgunova",
      "photoUrl": "https://lh5.googleusercontent.com/-i2CX_QSsamo/AAAAAAAAAAI/AAAAAAAAAB8/YRSVdMujpXw/s64/photo.jpg",
      "userId": "14712883095412086889"
     },
     "user_tz": -180
    },
    "id": "00XXuPVglUeT",
    "outputId": "24fc658f-bcb7-40f3-c532-52f744a47718"
   },
   "outputs": [
    {
     "data": {
      "text/plain": [
       "45203"
      ]
     },
     "execution_count": 11,
     "metadata": {},
     "output_type": "execute_result"
    }
   ],
   "source": [
    "vocab_size = len(tokenizer.word_index) + 1\n",
    "vocab_size"
   ]
  },
  {
   "cell_type": "code",
   "execution_count": 19,
   "metadata": {
    "colab": {},
    "colab_type": "code",
    "id": "uh25vm3IlUbL"
   },
   "outputs": [],
   "source": [
    "sequences = numpy.array(sequences)\n",
    "X, y = sequences[:,:-1], sequences[:,-1]\n"
   ]
  },
  {
   "cell_type": "code",
   "execution_count": 20,
   "metadata": {
    "colab": {},
    "colab_type": "code",
    "id": "dAm9nAiKlUYJ"
   },
   "outputs": [
    {
     "ename": "MemoryError",
     "evalue": "",
     "output_type": "error",
     "traceback": [
      "\u001b[1;31m---------------------------------------------------------------------------\u001b[0m",
      "\u001b[1;31mMemoryError\u001b[0m                               Traceback (most recent call last)",
      "\u001b[1;32m<ipython-input-20-0e8d3b41aef0>\u001b[0m in \u001b[0;36m<module>\u001b[1;34m\u001b[0m\n\u001b[1;32m----> 1\u001b[1;33m \u001b[0my\u001b[0m \u001b[1;33m=\u001b[0m \u001b[0mnp_utils\u001b[0m\u001b[1;33m.\u001b[0m\u001b[0mto_categorical\u001b[0m\u001b[1;33m(\u001b[0m\u001b[0my\u001b[0m\u001b[1;33m,\u001b[0m \u001b[0mnum_classes\u001b[0m\u001b[1;33m=\u001b[0m\u001b[0mvocab_size\u001b[0m\u001b[1;33m)\u001b[0m\u001b[1;33m\u001b[0m\u001b[1;33m\u001b[0m\u001b[0m\n\u001b[0m\u001b[0;32m      2\u001b[0m \u001b[0mseq_length\u001b[0m \u001b[1;33m=\u001b[0m \u001b[0mX\u001b[0m\u001b[1;33m.\u001b[0m\u001b[0mshape\u001b[0m\u001b[1;33m[\u001b[0m\u001b[1;36m1\u001b[0m\u001b[1;33m]\u001b[0m\u001b[1;33m\u001b[0m\u001b[1;33m\u001b[0m\u001b[0m\n",
      "\u001b[1;32m~\\Anaconda3\\lib\\site-packages\\keras\\utils\\np_utils.py\u001b[0m in \u001b[0;36mto_categorical\u001b[1;34m(y, num_classes, dtype)\u001b[0m\n\u001b[0;32m     31\u001b[0m         \u001b[0mnum_classes\u001b[0m \u001b[1;33m=\u001b[0m \u001b[0mnp\u001b[0m\u001b[1;33m.\u001b[0m\u001b[0mmax\u001b[0m\u001b[1;33m(\u001b[0m\u001b[0my\u001b[0m\u001b[1;33m)\u001b[0m \u001b[1;33m+\u001b[0m \u001b[1;36m1\u001b[0m\u001b[1;33m\u001b[0m\u001b[1;33m\u001b[0m\u001b[0m\n\u001b[0;32m     32\u001b[0m     \u001b[0mn\u001b[0m \u001b[1;33m=\u001b[0m \u001b[0my\u001b[0m\u001b[1;33m.\u001b[0m\u001b[0mshape\u001b[0m\u001b[1;33m[\u001b[0m\u001b[1;36m0\u001b[0m\u001b[1;33m]\u001b[0m\u001b[1;33m\u001b[0m\u001b[1;33m\u001b[0m\u001b[0m\n\u001b[1;32m---> 33\u001b[1;33m     \u001b[0mcategorical\u001b[0m \u001b[1;33m=\u001b[0m \u001b[0mnp\u001b[0m\u001b[1;33m.\u001b[0m\u001b[0mzeros\u001b[0m\u001b[1;33m(\u001b[0m\u001b[1;33m(\u001b[0m\u001b[0mn\u001b[0m\u001b[1;33m,\u001b[0m \u001b[0mnum_classes\u001b[0m\u001b[1;33m)\u001b[0m\u001b[1;33m,\u001b[0m \u001b[0mdtype\u001b[0m\u001b[1;33m=\u001b[0m\u001b[0mdtype\u001b[0m\u001b[1;33m)\u001b[0m\u001b[1;33m\u001b[0m\u001b[1;33m\u001b[0m\u001b[0m\n\u001b[0m\u001b[0;32m     34\u001b[0m     \u001b[0mcategorical\u001b[0m\u001b[1;33m[\u001b[0m\u001b[0mnp\u001b[0m\u001b[1;33m.\u001b[0m\u001b[0marange\u001b[0m\u001b[1;33m(\u001b[0m\u001b[0mn\u001b[0m\u001b[1;33m)\u001b[0m\u001b[1;33m,\u001b[0m \u001b[0my\u001b[0m\u001b[1;33m]\u001b[0m \u001b[1;33m=\u001b[0m \u001b[1;36m1\u001b[0m\u001b[1;33m\u001b[0m\u001b[1;33m\u001b[0m\u001b[0m\n\u001b[0;32m     35\u001b[0m     \u001b[0moutput_shape\u001b[0m \u001b[1;33m=\u001b[0m \u001b[0minput_shape\u001b[0m \u001b[1;33m+\u001b[0m \u001b[1;33m(\u001b[0m\u001b[0mnum_classes\u001b[0m\u001b[1;33m,\u001b[0m\u001b[1;33m)\u001b[0m\u001b[1;33m\u001b[0m\u001b[1;33m\u001b[0m\u001b[0m\n",
      "\u001b[1;31mMemoryError\u001b[0m: "
     ]
    }
   ],
   "source": [
    "y = np_utils.to_categorical(y, num_classes=vocab_size)\n",
    "seq_length = X.shape[1]"
   ]
  },
  {
   "cell_type": "code",
   "execution_count": null,
   "metadata": {
    "colab": {
     "base_uri": "https://localhost:8080/",
     "height": 35
    },
    "colab_type": "code",
    "executionInfo": {
     "elapsed": 747,
     "status": "ok",
     "timestamp": 1556806546524,
     "user": {
      "displayName": "Valerie Shelgunova",
      "photoUrl": "https://lh5.googleusercontent.com/-i2CX_QSsamo/AAAAAAAAAAI/AAAAAAAAAB8/YRSVdMujpXw/s64/photo.jpg",
      "userId": "14712883095412086889"
     },
     "user_tz": -180
    },
    "id": "apq-8WAS5pct",
    "outputId": "6567e4ce-263f-4468-bd31-b5fdca13e79a"
   },
   "outputs": [],
   "source": []
  },
  {
   "cell_type": "code",
   "execution_count": null,
   "metadata": {
    "colab": {},
    "colab_type": "code",
    "id": "O6Q5jdnX6Gj5"
   },
   "outputs": [],
   "source": []
  },
  {
   "cell_type": "code",
   "execution_count": 17,
   "metadata": {
    "colab": {
     "base_uri": "https://localhost:8080/",
     "height": 410
    },
    "colab_type": "code",
    "executionInfo": {
     "elapsed": 1114,
     "status": "ok",
     "timestamp": 1556820399042,
     "user": {
      "displayName": "Valerie Shelgunova",
      "photoUrl": "https://lh5.googleusercontent.com/-i2CX_QSsamo/AAAAAAAAAAI/AAAAAAAAAB8/YRSVdMujpXw/s64/photo.jpg",
      "userId": "14712883095412086889"
     },
     "user_tz": -180
    },
    "id": "G37Foab-lUVM",
    "outputId": "588a8dd6-6f73-4ca5-c9ef-1f56cd3176bd"
   },
   "outputs": [
    {
     "ename": "NameError",
     "evalue": "name 'seq_length' is not defined",
     "output_type": "error",
     "traceback": [
      "\u001b[1;31m---------------------------------------------------------------------------\u001b[0m",
      "\u001b[1;31mNameError\u001b[0m                                 Traceback (most recent call last)",
      "\u001b[1;32m<ipython-input-17-d3408fca3a6e>\u001b[0m in \u001b[0;36m<module>\u001b[1;34m\u001b[0m\n\u001b[0;32m      1\u001b[0m \u001b[0mmodel\u001b[0m \u001b[1;33m=\u001b[0m \u001b[0mSequential\u001b[0m\u001b[1;33m(\u001b[0m\u001b[1;33m)\u001b[0m\u001b[1;33m\u001b[0m\u001b[1;33m\u001b[0m\u001b[0m\n\u001b[1;32m----> 2\u001b[1;33m \u001b[0mmodel\u001b[0m\u001b[1;33m.\u001b[0m\u001b[0madd\u001b[0m\u001b[1;33m(\u001b[0m\u001b[0mlayers\u001b[0m\u001b[1;33m.\u001b[0m\u001b[0mEmbedding\u001b[0m\u001b[1;33m(\u001b[0m\u001b[0mvocab_size\u001b[0m\u001b[1;33m,\u001b[0m \u001b[1;36m50\u001b[0m\u001b[1;33m,\u001b[0m \u001b[0minput_length\u001b[0m\u001b[1;33m=\u001b[0m\u001b[0mseq_length\u001b[0m\u001b[1;33m)\u001b[0m\u001b[1;33m)\u001b[0m\u001b[1;33m\u001b[0m\u001b[1;33m\u001b[0m\u001b[0m\n\u001b[0m\u001b[0;32m      3\u001b[0m \u001b[0mmodel\u001b[0m\u001b[1;33m.\u001b[0m\u001b[0madd\u001b[0m\u001b[1;33m(\u001b[0m\u001b[0mLSTM\u001b[0m\u001b[1;33m(\u001b[0m\u001b[1;36m100\u001b[0m\u001b[1;33m,\u001b[0m \u001b[0mreturn_sequences\u001b[0m\u001b[1;33m=\u001b[0m\u001b[1;32mTrue\u001b[0m\u001b[1;33m)\u001b[0m\u001b[1;33m)\u001b[0m\u001b[1;33m\u001b[0m\u001b[1;33m\u001b[0m\u001b[0m\n\u001b[0;32m      4\u001b[0m \u001b[0mmodel\u001b[0m\u001b[1;33m.\u001b[0m\u001b[0madd\u001b[0m\u001b[1;33m(\u001b[0m\u001b[0mLSTM\u001b[0m\u001b[1;33m(\u001b[0m\u001b[1;36m100\u001b[0m\u001b[1;33m)\u001b[0m\u001b[1;33m)\u001b[0m\u001b[1;33m\u001b[0m\u001b[1;33m\u001b[0m\u001b[0m\n\u001b[0;32m      5\u001b[0m \u001b[0mmodel\u001b[0m\u001b[1;33m.\u001b[0m\u001b[0madd\u001b[0m\u001b[1;33m(\u001b[0m\u001b[0mDense\u001b[0m\u001b[1;33m(\u001b[0m\u001b[1;36m100\u001b[0m\u001b[1;33m,\u001b[0m \u001b[0mactivation\u001b[0m\u001b[1;33m=\u001b[0m\u001b[1;34m'relu'\u001b[0m\u001b[1;33m)\u001b[0m\u001b[1;33m)\u001b[0m\u001b[1;33m\u001b[0m\u001b[1;33m\u001b[0m\u001b[0m\n",
      "\u001b[1;31mNameError\u001b[0m: name 'seq_length' is not defined"
     ]
    }
   ],
   "source": [
    "model = Sequential()\n",
    "model.add(layers.Embedding(vocab_size, 50, input_length=seq_length))\n",
    "model.add(LSTM(100, return_sequences=True))\n",
    "model.add(LSTM(100))\n",
    "model.add(Dense(100, activation='relu'))\n",
    "model.add(Dense(vocab_size, activation='softmax'))\n",
    "print(model.summary())"
   ]
  },
  {
   "cell_type": "code",
   "execution_count": null,
   "metadata": {
    "colab": {},
    "colab_type": "code",
    "id": "b74ex67y6hyY"
   },
   "outputs": [],
   "source": [
    "# model.compile(loss='categorical_crossentropy', optimizer='adam', metrics=['accuracy'])\n"
   ]
  },
  {
   "cell_type": "code",
   "execution_count": null,
   "metadata": {
    "colab": {},
    "colab_type": "code",
    "id": "g0yjcwv5tnAS"
   },
   "outputs": [],
   "source": [
    "\n",
    "# model.load_weights(filename)\n",
    "# model.compile(loss='categorical_crossentropy', optimizer='adam')"
   ]
  },
  {
   "cell_type": "code",
   "execution_count": 14,
   "metadata": {
    "colab": {},
    "colab_type": "code",
    "id": "stTsR_rmrgBZ"
   },
   "outputs": [
    {
     "ename": "NameError",
     "evalue": "name 'model' is not defined",
     "output_type": "error",
     "traceback": [
      "\u001b[1;31m---------------------------------------------------------------------------\u001b[0m",
      "\u001b[1;31mNameError\u001b[0m                                 Traceback (most recent call last)",
      "\u001b[1;32m<ipython-input-14-8e4476475f60>\u001b[0m in \u001b[0;36m<module>\u001b[1;34m\u001b[0m\n\u001b[1;32m----> 1\u001b[1;33m \u001b[0mmodel\u001b[0m\u001b[1;33m.\u001b[0m\u001b[0mcompile\u001b[0m\u001b[1;33m(\u001b[0m\u001b[0mloss\u001b[0m\u001b[1;33m=\u001b[0m\u001b[1;34m'categorical_crossentropy'\u001b[0m\u001b[1;33m,\u001b[0m \u001b[0moptimizer\u001b[0m\u001b[1;33m=\u001b[0m\u001b[1;34m'adam'\u001b[0m\u001b[1;33m)\u001b[0m\u001b[1;33m\u001b[0m\u001b[1;33m\u001b[0m\u001b[0m\n\u001b[0m",
      "\u001b[1;31mNameError\u001b[0m: name 'model' is not defined"
     ]
    }
   ],
   "source": [
    "model.compile(loss='categorical_crossentropy', optimizer='adam')"
   ]
  },
  {
   "cell_type": "markdown",
   "metadata": {
    "colab_type": "text",
    "id": "OfNS8ey8rbQa"
   },
   "source": []
  },
  {
   "cell_type": "code",
   "execution_count": 15,
   "metadata": {
    "colab": {},
    "colab_type": "code",
    "id": "6rHsv5tY6uRM"
   },
   "outputs": [],
   "source": [
    "filepath=\"weights-TOKENS-LONGimprovement-{epoch:02d}-{loss:.4f}.hdf5\"\n",
    "checkpoint = ModelCheckpoint(filepath, monitor='loss', verbose=1, save_best_only=True, mode='min')\n",
    "callbacks_list = [checkpoint]"
   ]
  },
  {
   "cell_type": "markdown",
   "metadata": {
    "colab_type": "text",
    "id": "_EJ0FC8eM6pU"
   },
   "source": [
    "batch_size: Integer or None. Number of samples per gradient update. If unspecified, batch_size will default to 32."
   ]
  },
  {
   "cell_type": "code",
   "execution_count": 16,
   "metadata": {
    "colab": {
     "base_uri": "https://localhost:8080/",
     "height": 1457
    },
    "colab_type": "code",
    "executionInfo": {
     "elapsed": 5509831,
     "status": "ok",
     "timestamp": 1556862850799,
     "user": {
      "displayName": "Valerie Shelgunova",
      "photoUrl": "https://lh5.googleusercontent.com/-i2CX_QSsamo/AAAAAAAAAAI/AAAAAAAAAB8/YRSVdMujpXw/s64/photo.jpg",
      "userId": "14712883095412086889"
     },
     "user_tz": -180
    },
    "id": "7Q49n3EG6hm6",
    "outputId": "62a50ccb-03aa-4089-f054-e21e54e1e6e7"
   },
   "outputs": [
    {
     "ename": "NameError",
     "evalue": "name 'model' is not defined",
     "output_type": "error",
     "traceback": [
      "\u001b[1;31m---------------------------------------------------------------------------\u001b[0m",
      "\u001b[1;31mNameError\u001b[0m                                 Traceback (most recent call last)",
      "\u001b[1;32m<ipython-input-16-731152e03265>\u001b[0m in \u001b[0;36m<module>\u001b[1;34m\u001b[0m\n\u001b[0;32m      1\u001b[0m \u001b[1;33m\u001b[0m\u001b[0m\n\u001b[1;32m----> 2\u001b[1;33m \u001b[0mmodel\u001b[0m\u001b[1;33m.\u001b[0m\u001b[0mfit\u001b[0m\u001b[1;33m(\u001b[0m\u001b[0mX\u001b[0m\u001b[1;33m,\u001b[0m \u001b[0my\u001b[0m\u001b[1;33m,\u001b[0m \u001b[0mepochs\u001b[0m\u001b[1;33m=\u001b[0m\u001b[1;36m2\u001b[0m\u001b[1;33m,\u001b[0m  \u001b[0mcallbacks\u001b[0m\u001b[1;33m=\u001b[0m\u001b[0mcallbacks_list\u001b[0m\u001b[1;33m)\u001b[0m \u001b[1;31m#batchsize?\u001b[0m\u001b[1;33m\u001b[0m\u001b[1;33m\u001b[0m\u001b[0m\n\u001b[0m",
      "\u001b[1;31mNameError\u001b[0m: name 'model' is not defined"
     ]
    }
   ],
   "source": [
    "\n",
    "model.fit(X, y, epochs=2,  callbacks=callbacks_list) #batchsize?"
   ]
  },
  {
   "cell_type": "code",
   "execution_count": 0,
   "metadata": {
    "colab": {},
    "colab_type": "code",
    "id": "7mKLzx9ulUSD"
   },
   "outputs": [],
   "source": []
  },
  {
   "cell_type": "code",
   "execution_count": 19,
   "metadata": {
    "colab": {},
    "colab_type": "code",
    "id": "DKECMgru2yVJ"
   },
   "outputs": [],
   "source": [
    "# save the model to file\n",
    "model.save('model_gen_4_TOKENS.h5')\n",
    "# save the tokenizer\n",
    "dump(tokenizer, open('tokenizer_gen_4_TOKENS.pkl', 'wb'))"
   ]
  },
  {
   "cell_type": "code",
   "execution_count": 13,
   "metadata": {
    "colab": {
     "base_uri": "https://localhost:8080/",
     "height": 144
    },
    "colab_type": "code",
    "executionInfo": {
     "elapsed": 4672,
     "status": "ok",
     "timestamp": 1556853035412,
     "user": {
      "displayName": "Valerie Shelgunova",
      "photoUrl": "https://lh5.googleusercontent.com/-i2CX_QSsamo/AAAAAAAAAAI/AAAAAAAAAB8/YRSVdMujpXw/s64/photo.jpg",
      "userId": "14712883095412086889"
     },
     "user_tz": -180
    },
    "id": "HnIF8kge2yGL",
    "outputId": "37f8b271-19c7-42e1-c6ce-0b0ceddad954"
   },
   "outputs": [
    {
     "name": "stdout",
     "output_type": "stream",
     "text": [
      "WARNING:tensorflow:From C:\\Users\\septo\\Anaconda3\\lib\\site-packages\\tensorflow\\python\\framework\\op_def_library.py:263: colocate_with (from tensorflow.python.framework.ops) is deprecated and will be removed in a future version.\n",
      "Instructions for updating:\n",
      "Colocations handled automatically by placer.\n",
      "WARNING:tensorflow:From C:\\Users\\septo\\Anaconda3\\lib\\site-packages\\tensorflow\\python\\ops\\math_ops.py:3066: to_int32 (from tensorflow.python.ops.math_ops) is deprecated and will be removed in a future version.\n",
      "Instructions for updating:\n",
      "Use tf.cast instead.\n"
     ]
    }
   ],
   "source": [
    "# load the model\n",
    "model = load_model('model_gen_4_TOKENS.h5')\n"
   ]
  },
  {
   "cell_type": "code",
   "execution_count": 7,
   "metadata": {
    "colab": {},
    "colab_type": "code",
    "id": "LI4sr6Rg2xuF"
   },
   "outputs": [],
   "source": [
    "# load the tokenizer\n",
    "tokenizer = load(open('tokenizer_gen_4_TOKENS.pkl', 'rb'))"
   ]
  },
  {
   "cell_type": "code",
   "execution_count": 20,
   "metadata": {
    "colab": {
     "base_uri": "https://localhost:8080/",
     "height": 52
    },
    "colab_type": "code",
    "executionInfo": {
     "elapsed": 380,
     "status": "ok",
     "timestamp": 1556862919441,
     "user": {
      "displayName": "Valerie Shelgunova",
      "photoUrl": "https://lh5.googleusercontent.com/-i2CX_QSsamo/AAAAAAAAAAI/AAAAAAAAAB8/YRSVdMujpXw/s64/photo.jpg",
      "userId": "14712883095412086889"
     },
     "user_tz": -180
    },
    "id": "KgbIbiMa31ta",
    "outputId": "5300c755-33ba-433d-860e-bf4107731688"
   },
   "outputs": [
    {
     "name": "stdout",
     "output_type": "stream",
     "text": [
      "не нужен потому\n",
      "\n"
     ]
    }
   ],
   "source": [
    "in_filename = 'three_seq.txt'\n",
    "doc = load_doc(in_filename)\n",
    "lines = doc.split('\\n')\n",
    "seq_length = len(lines[0].split()) - 1\n",
    "seed_text = lines[randint(0,len(lines))]\n",
    "print(seed_text + '\\n')"
   ]
  },
  {
   "cell_type": "code",
   "execution_count": 0,
   "metadata": {
    "colab": {},
    "colab_type": "code",
    "id": "Uhr8dr1I31kz"
   },
   "outputs": [],
   "source": []
  },
  {
   "cell_type": "code",
   "execution_count": 21,
   "metadata": {
    "colab": {},
    "colab_type": "code",
    "id": "RusYAoMc4SQf"
   },
   "outputs": [],
   "source": [
    "def generate_seq(model, tokenizer, seq_length, seed_text, n_words):\n",
    "\tresult = list()\n",
    "\tin_text = seed_text\n",
    "\t# generate a fixed number of words\n",
    "\tfor _ in range(n_words):\n",
    "\t\t# encode the text as integer\n",
    "\t\tencoded = tokenizer.texts_to_sequences([in_text])[0]\n",
    "\t\t# truncate sequences to a fixed length\n",
    "\t\tencoded = pad_sequences([encoded], maxlen=seq_length, truncating='pre')\n",
    "\t\t# predict probabilities for each word\n",
    "\t\tyhat = model.predict_classes(encoded, verbose=0)\n",
    "\t\t# map predicted word index to word\n",
    "\t\tout_word = ''\n",
    "\t\tfor word, index in tokenizer.word_index.items():\n",
    "\t\t\tif index == yhat:\n",
    "\t\t\t\tout_word = word\n",
    "\t\t\t\tbreak\n",
    "\t\t# append to input\n",
    "\t\tin_text += ' ' + out_word\n",
    "\t\tresult.append(out_word)\n",
    "\treturn ' '.join(result)"
   ]
  },
  {
   "cell_type": "code",
   "execution_count": 22,
   "metadata": {
    "colab": {
     "base_uri": "https://localhost:8080/",
     "height": 195
    },
    "colab_type": "code",
    "executionInfo": {
     "elapsed": 828,
     "status": "ok",
     "timestamp": 1556862980951,
     "user": {
      "displayName": "Valerie Shelgunova",
      "photoUrl": "https://lh5.googleusercontent.com/-i2CX_QSsamo/AAAAAAAAAAI/AAAAAAAAAB8/YRSVdMujpXw/s64/photo.jpg",
      "userId": "14712883095412086889"
     },
     "user_tz": -180
    },
    "id": "JCjnspMu4R_W",
    "outputId": "6fbbf98e-c5b5-4df3-99a1-e1d32fb85acd"
   },
   "outputs": [
    {
     "name": "stdout",
     "output_type": "stream",
     "text": [
      "не знаю что я не знаю что\n",
      "концерта в москве в москве в москве\n",
      "концерта и не знаю что я не\n",
      "не знаю что я не знаю что\n",
      "не знаю что я не знаю что\n",
      "раз на концерте в этом году не\n",
      "знаю что я не знаю что я\n",
      "не знаю что я не знаю что\n",
      "что это не знаю что я не\n",
      "я не знаю что я не знаю\n"
     ]
    }
   ],
   "source": [
    "\n",
    "for i in range (10):\n",
    "  seed_text = lines[randint(0,len(lines))]\n",
    "#   print(seed_text + '\\n')\n",
    "  generated = generate_seq(model, tokenizer, seq_length, seed_text, 7)\n",
    "  print(generated)"
   ]
  },
  {
   "cell_type": "markdown",
   "metadata": {
    "colab_type": "text",
    "id": "Q4YwCZBfyf2i"
   },
   "source": []
  },
  {
   "cell_type": "markdown",
   "metadata": {
    "colab_type": "text",
    "id": "CRi4x_0TyhY-"
   },
   "source": [
    "### RUS"
   ]
  },
  {
   "cell_type": "code",
   "execution_count": 0,
   "metadata": {
    "colab": {},
    "colab_type": "code",
    "id": "X9e9bBDWwhYc"
   },
   "outputs": [],
   "source": [
    "df_rus = pd.read_csv('gk4z_rus_clean.csv')"
   ]
  },
  {
   "cell_type": "code",
   "execution_count": 0,
   "metadata": {
    "colab": {},
    "colab_type": "code",
    "id": "SN69h-XSwhVM"
   },
   "outputs": [],
   "source": [
    "raw_text_rus = ' '.join(df_rus.clean_text.tolist() )\n",
    "raw_text_rus = raw_text_rus.lower()"
   ]
  },
  {
   "cell_type": "code",
   "execution_count": 0,
   "metadata": {
    "colab": {},
    "colab_type": "code",
    "id": "Gn023rOZwhPL"
   },
   "outputs": [],
   "source": [
    "word_list_rus = raw_text_rus.split()"
   ]
  },
  {
   "cell_type": "code",
   "execution_count": 11,
   "metadata": {
    "colab": {
     "base_uri": "https://localhost:8080/",
     "height": 35
    },
    "colab_type": "code",
    "executionInfo": {
     "elapsed": 717,
     "status": "ok",
     "timestamp": 1556787812101,
     "user": {
      "displayName": "Valerie Shelgunova",
      "photoUrl": "https://lh5.googleusercontent.com/-i2CX_QSsamo/AAAAAAAAAAI/AAAAAAAAAB8/YRSVdMujpXw/s64/photo.jpg",
      "userId": "14712883095412086889"
     },
     "user_tz": -180
    },
    "id": "K2TUnIDqwhA9",
    "outputId": "08078532-5166-403b-f551-0eaa39a51fc7"
   },
   "outputs": [
    {
     "data": {
      "text/plain": [
       "447432"
      ]
     },
     "execution_count": 11,
     "metadata": {
      "tags": []
     },
     "output_type": "execute_result"
    }
   ],
   "source": [
    "len(word_list_rus)"
   ]
  },
  {
   "cell_type": "code",
   "execution_count": 12,
   "metadata": {
    "colab": {
     "base_uri": "https://localhost:8080/",
     "height": 35
    },
    "colab_type": "code",
    "executionInfo": {
     "elapsed": 1361,
     "status": "ok",
     "timestamp": 1556787853814,
     "user": {
      "displayName": "Valerie Shelgunova",
      "photoUrl": "https://lh5.googleusercontent.com/-i2CX_QSsamo/AAAAAAAAAAI/AAAAAAAAAB8/YRSVdMujpXw/s64/photo.jpg",
      "userId": "14712883095412086889"
     },
     "user_tz": -180
    },
    "id": "aN6PWA_3yR1i",
    "outputId": "adcfd779-5fff-491b-8e77-7a8d619e2e6d"
   },
   "outputs": [
    {
     "name": "stdout",
     "output_type": "stream",
     "text": [
      "52183\n"
     ]
    }
   ],
   "source": [
    "tokens_rus = sorted(list(set(word_list_rus)))\n",
    "print(len(tokens_rus))"
   ]
  },
  {
   "cell_type": "code",
   "execution_count": 0,
   "metadata": {
    "colab": {},
    "colab_type": "code",
    "id": "C3KdxPIgyRKx"
   },
   "outputs": [],
   "source": []
  },
  {
   "cell_type": "markdown",
   "metadata": {
    "colab_type": "text",
    "id": "NOcPWl8GypQF"
   },
   "source": [
    "# U"
   ]
  },
  {
   "cell_type": "code",
   "execution_count": 0,
   "metadata": {
    "colab": {},
    "colab_type": "code",
    "id": "SYqXj71LzaLJ"
   },
   "outputs": [],
   "source": [
    "tokens_to_int = dict((c, i) for i, c in enumerate(tokens))"
   ]
  },
  {
   "cell_type": "code",
   "execution_count": 62,
   "metadata": {
    "colab": {
     "base_uri": "https://localhost:8080/",
     "height": 17812
    },
    "colab_type": "code",
    "executionInfo": {
     "elapsed": 814,
     "status": "ok",
     "timestamp": 1556790084909,
     "user": {
      "displayName": "Valerie Shelgunova",
      "photoUrl": "https://lh5.googleusercontent.com/-i2CX_QSsamo/AAAAAAAAAAI/AAAAAAAAAB8/YRSVdMujpXw/s64/photo.jpg",
      "userId": "14712883095412086889"
     },
     "user_tz": -180
    },
    "id": "mjrTU9w35SlT",
    "outputId": "c5561e94-59f1-47c5-eb25-7b2fe02790ec"
   },
   "outputs": [
    {
     "data": {
      "text/plain": [
       "{'а': 0,\n",
       " 'аа': 1,\n",
       " 'ааа': 2,\n",
       " 'аааа': 3,\n",
       " 'ааааа': 4,\n",
       " 'аааааа': 5,\n",
       " 'ааааааа': 6,\n",
       " 'аааааааа': 7,\n",
       " 'ааааааааа': 8,\n",
       " 'аааааааааа': 9,\n",
       " 'аааааааааааа': 10,\n",
       " 'аааааааааааааааааааааааааа': 11,\n",
       " 'аааааааааааааааааааааааааааа': 12,\n",
       " 'ааааааааааааааааааааааааааааааааа': 13,\n",
       " 'ааааааааааааааааааааааааааааааааааааааааааааааааааааааааааааааааааааааааааая': 14,\n",
       " 'аааааааааааааааааааааааааааааааааааааааааааагосподи': 15,\n",
       " 'аааааааааааааааааааабиснити': 16,\n",
       " 'аааааааааааааоооооааааааааа': 17,\n",
       " 'аааааааааав': 18,\n",
       " 'аааааааааая': 19,\n",
       " 'ааааайс': 20,\n",
       " 'аааааще': 21,\n",
       " 'аааабшрвлтыеожкнрвьт': 22,\n",
       " 'ааааррр': 23,\n",
       " 'ааай': 24,\n",
       " 'ааах': 25,\n",
       " 'аазез': 26,\n",
       " 'аазис': 27,\n",
       " 'ааоаоао': 28,\n",
       " 'ааоаоаоаоа': 29,\n",
       " 'аарон': 30,\n",
       " 'аарончик': 31,\n",
       " 'ааха': 32,\n",
       " 'аахахахха': 33,\n",
       " 'ааххахаха': 34,\n",
       " 'ааще': 35,\n",
       " 'абберивеатура': 36,\n",
       " 'аббревиатур': 37,\n",
       " 'аббревиатура': 38,\n",
       " 'аббревиатуре': 39,\n",
       " 'абвгдейку': 40,\n",
       " 'абеля': 41,\n",
       " 'абзац': 42,\n",
       " 'абик': 43,\n",
       " 'абонемент': 44,\n",
       " 'абонемента': 45,\n",
       " 'абонементам': 46,\n",
       " 'абонементами': 47,\n",
       " 'абонементов': 48,\n",
       " 'абонементом': 49,\n",
       " 'абонементы': 50,\n",
       " 'абонентов': 51,\n",
       " 'абонимент': 52,\n",
       " 'абракадабру': 53,\n",
       " 'абрамовича': 54,\n",
       " 'абрахам': 55,\n",
       " 'абсентом': 56,\n",
       " 'абсолютнейшая': 57,\n",
       " 'абсолютно': 58,\n",
       " 'абсолютного': 59,\n",
       " 'абсолютное': 60,\n",
       " 'абсолютной': 61,\n",
       " 'абсолютный': 62,\n",
       " 'абсолютным': 63,\n",
       " 'абстрагироваться': 64,\n",
       " 'абстрактный': 65,\n",
       " 'абсурд': 66,\n",
       " 'абсурдом': 67,\n",
       " 'абы': 68,\n",
       " 'абьюз': 69,\n",
       " 'ав': 70,\n",
       " 'аванс': 71,\n",
       " 'авантазии': 72,\n",
       " 'аварии': 73,\n",
       " 'аварию': 74,\n",
       " 'авария': 75,\n",
       " 'аватар': 76,\n",
       " 'аватаре': 77,\n",
       " 'аватарка': 78,\n",
       " 'аватарками': 79,\n",
       " 'аватарках': 80,\n",
       " 'аватарке': 81,\n",
       " 'аватарки': 82,\n",
       " 'аватаркой': 83,\n",
       " 'аватарку': 84,\n",
       " 'август': 85,\n",
       " 'августа': 86,\n",
       " 'августдекабрь': 87,\n",
       " 'августе': 88,\n",
       " 'августну': 89,\n",
       " 'авдотья': 90,\n",
       " 'аве': 91,\n",
       " 'аведействия': 92,\n",
       " 'авенжи': 93,\n",
       " 'авенов': 94,\n",
       " 'авены': 95,\n",
       " 'авеню': 96,\n",
       " 'авзха': 97,\n",
       " 'авиа': 98,\n",
       " 'авиабилеты': 99,\n",
       " 'авиакомпании': 100,\n",
       " 'авиакомпаний': 101,\n",
       " 'авиарежим': 102,\n",
       " 'авиарейсов': 103,\n",
       " 'авиатуры': 104,\n",
       " 'авиации': 105,\n",
       " 'авитаминоз': 106,\n",
       " 'авито': 107,\n",
       " 'авичи': 108,\n",
       " 'авичигарриксахгеттахайоки': 109,\n",
       " 'авичигетте': 110,\n",
       " 'авичихардвелгеттагаррексчейнсмокерс': 111,\n",
       " 'аволнэйшен': 112,\n",
       " 'авось': 113,\n",
       " 'аврил': 114,\n",
       " 'аврора': 115,\n",
       " 'авроре': 116,\n",
       " 'авророй': 117,\n",
       " 'аврору': 118,\n",
       " 'авроры': 119,\n",
       " 'австралии': 120,\n",
       " 'австралийский': 121,\n",
       " 'австралийским': 122,\n",
       " 'австралийских': 123,\n",
       " 'австралийцы': 124,\n",
       " 'австралицы': 125,\n",
       " 'австралию': 126,\n",
       " 'австралия': 127,\n",
       " 'австрии': 128,\n",
       " 'австрию': 129,\n",
       " 'авто': 130,\n",
       " 'автобуесе': 131,\n",
       " 'автобус': 132,\n",
       " 'автобуса': 133,\n",
       " 'автобусами': 134,\n",
       " 'автобусах': 135,\n",
       " 'автобусе': 136,\n",
       " 'автобусной': 137,\n",
       " 'автобусные': 138,\n",
       " 'автобусный': 139,\n",
       " 'автобусным': 140,\n",
       " 'автобусов': 141,\n",
       " 'автобустроллейбус': 142,\n",
       " 'автобусы': 143,\n",
       " 'автобусыили': 144,\n",
       " 'автограф': 145,\n",
       " 'автографа': 146,\n",
       " 'автографами': 147,\n",
       " 'автографамигорстка': 148,\n",
       " 'автографамии': 149,\n",
       " 'автографе': 150,\n",
       " 'автографов': 151,\n",
       " 'автографоввы': 152,\n",
       " 'автографом': 153,\n",
       " 'автографсессией': 154,\n",
       " 'автографсессии': 155,\n",
       " 'автографсессию': 156,\n",
       " 'автографсессия': 157,\n",
       " 'автографсессиях': 158,\n",
       " 'автографы': 159,\n",
       " 'автозагар': 160,\n",
       " 'автозаков': 161,\n",
       " 'автозамена': 162,\n",
       " 'автозамены': 163,\n",
       " 'автоисправление': 164,\n",
       " 'автокатастрофе': 165,\n",
       " 'автокоррект': 166,\n",
       " 'автомат': 167,\n",
       " 'автомате': 168,\n",
       " 'автоматечитаешь': 169,\n",
       " 'автоматизма': 170,\n",
       " 'автоматически': 171,\n",
       " 'автоматом': 172,\n",
       " 'автоматы': 173,\n",
       " 'автомобили': 174,\n",
       " 'автомобилист': 175,\n",
       " 'автомобилисты': 176,\n",
       " 'автономностью': 177,\n",
       " 'автопати': 178,\n",
       " 'автоподстановкой': 179,\n",
       " 'автопортрет': 180,\n",
       " 'автор': 181,\n",
       " 'автора': 182,\n",
       " 'авторадио': 183,\n",
       " 'авторизации': 184,\n",
       " 'авторизация': 185,\n",
       " 'авторитет': 186,\n",
       " 'авторитетное': 187,\n",
       " 'авторитетные': 188,\n",
       " 'авторитетный': 189,\n",
       " 'авторитетным': 190,\n",
       " 'авторка': 191,\n",
       " 'авторов': 192,\n",
       " 'автором': 193,\n",
       " 'авторским': 194,\n",
       " 'авторских': 195,\n",
       " 'авторской': 196,\n",
       " 'авторства': 197,\n",
       " 'автору': 198,\n",
       " 'авторукак': 199,\n",
       " 'авторы': 200,\n",
       " 'автостоп': 201,\n",
       " 'автостопа': 202,\n",
       " 'автостопом': 203,\n",
       " 'автостопщики': 204,\n",
       " 'автостопщиков': 205,\n",
       " 'автотюн': 206,\n",
       " 'автотюна': 207,\n",
       " 'автотюном': 208,\n",
       " 'автотюну': 209,\n",
       " 'автотюнят': 210,\n",
       " 'аву': 211,\n",
       " 'авхахав': 212,\n",
       " 'авы': 213,\n",
       " 'ага': 214,\n",
       " 'агаили': 215,\n",
       " 'агамотточтобы': 216,\n",
       " 'агась': 217,\n",
       " 'агат': 218,\n",
       " 'агата': 219,\n",
       " 'агате': 220,\n",
       " 'агатовские': 221,\n",
       " 'агаты': 222,\n",
       " 'агенств': 223,\n",
       " 'агенства': 224,\n",
       " 'агенствам': 225,\n",
       " 'агенство': 226,\n",
       " 'агент': 227,\n",
       " 'агентов': 228,\n",
       " 'агентом': 229,\n",
       " 'агентств': 230,\n",
       " 'агентства': 231,\n",
       " 'агентствами': 232,\n",
       " 'агентстве': 233,\n",
       " 'агентство': 234,\n",
       " 'агентством': 235,\n",
       " 'агентству': 236,\n",
       " 'агилера': 237,\n",
       " 'агилеры': 238,\n",
       " 'агитация': 239,\n",
       " 'агитировали': 240,\n",
       " 'агитирую': 241,\n",
       " 'агнский': 242,\n",
       " 'агонь': 243,\n",
       " 'агресивно': 244,\n",
       " 'агресиято': 245,\n",
       " 'агрессивная': 246,\n",
       " 'агрессивней': 247,\n",
       " 'агрессивно': 248,\n",
       " 'агрессивной': 249,\n",
       " 'агрессивнопетушиные': 250,\n",
       " 'агрессивную': 251,\n",
       " 'агрессивные': 252,\n",
       " 'агрессивный': 253,\n",
       " 'агрессивных': 254,\n",
       " 'агрессией': 255,\n",
       " 'агрессии': 256,\n",
       " 'агрессируют': 257,\n",
       " 'агрессию': 258,\n",
       " 'агрессия': 259,\n",
       " 'агрессиямош': 260,\n",
       " 'агузарова': 261,\n",
       " 'агутин': 262,\n",
       " 'агутина': 263,\n",
       " 'агутину': 264,\n",
       " 'ад': 265,\n",
       " 'ада': 266,\n",
       " 'адаа': 267,\n",
       " 'адам': 268,\n",
       " 'адама': 269,\n",
       " 'адамасом': 270,\n",
       " 'адамкины': 271,\n",
       " 'адамом': 272,\n",
       " 'адамс': 273,\n",
       " 'адамса': 274,\n",
       " 'адаптировался': 275,\n",
       " 'аддтр': 276,\n",
       " 'адекаатным': 277,\n",
       " 'адекватная': 278,\n",
       " 'адекватнее': 279,\n",
       " 'адекватно': 280,\n",
       " 'адекватной': 281,\n",
       " 'адекватном': 282,\n",
       " 'адекватности': 283,\n",
       " 'адекватность': 284,\n",
       " 'адекватную': 285,\n",
       " 'адекватны': 286,\n",
       " 'адекватные': 287,\n",
       " 'адекватный': 288,\n",
       " 'адекватным': 289,\n",
       " 'адекватными': 290,\n",
       " 'адекватных': 291,\n",
       " 'адекваты': 292,\n",
       " 'аделина': 293,\n",
       " 'адель': 294,\n",
       " 'адепт': 295,\n",
       " 'адепте': 296,\n",
       " 'адептов': 297,\n",
       " 'адептовскую': 298,\n",
       " 'адидас': 299,\n",
       " 'адидаса': 300,\n",
       " 'адиль': 301,\n",
       " 'адиля': 302,\n",
       " 'адин': 303,\n",
       " 'адища': 304,\n",
       " 'адище': 305,\n",
       " 'адмену': 306,\n",
       " 'админ': 307,\n",
       " 'админа': 308,\n",
       " 'админам': 309,\n",
       " 'админами': 310,\n",
       " 'админили': 311,\n",
       " 'администратор': 312,\n",
       " 'администратора': 313,\n",
       " 'администраторов': 314,\n",
       " 'администратором': 315,\n",
       " 'администрации': 316,\n",
       " 'администрация': 317,\n",
       " 'админке': 318,\n",
       " 'админки': 319,\n",
       " 'админкой': 320,\n",
       " 'админку': 321,\n",
       " 'админов': 322,\n",
       " 'админом': 323,\n",
       " 'админские': 324,\n",
       " 'админского': 325,\n",
       " 'админу': 326,\n",
       " 'админы': 327,\n",
       " 'админю': 328,\n",
       " 'адмирал': 329,\n",
       " 'адназначна': 330,\n",
       " 'адной': 331,\n",
       " 'адово': 332,\n",
       " 'адовой': 333,\n",
       " 'адовые': 334,\n",
       " 'адовых': 335,\n",
       " 'адок': 336,\n",
       " 'адреналин': 337,\n",
       " 'адреналина': 338,\n",
       " 'адреналином': 339,\n",
       " 'адрес': 340,\n",
       " 'адреса': 341,\n",
       " 'адресе': 342,\n",
       " 'адресовала': 343,\n",
       " 'адресована': 344,\n",
       " 'адресу': 345,\n",
       " 'адриатики': 346,\n",
       " 'адская': 347,\n",
       " 'адски': 348,\n",
       " 'адские': 349,\n",
       " 'адский': 350,\n",
       " 'адским': 351,\n",
       " 'адских': 352,\n",
       " 'адского': 353,\n",
       " 'адской': 354,\n",
       " 'адском': 355,\n",
       " 'адскую': 356,\n",
       " 'адтр': 357,\n",
       " 'аду': 358,\n",
       " 'адыгее': 359,\n",
       " 'адьо': 360,\n",
       " 'адьос': 361,\n",
       " 'аеее': 362,\n",
       " 'аееееееее': 363,\n",
       " 'аеросмит': 364,\n",
       " 'аж': 365,\n",
       " 'ажиотаж': 366,\n",
       " 'ажиотажа': 367,\n",
       " 'азаз': 368,\n",
       " 'азаза': 369,\n",
       " 'азазаз': 370,\n",
       " 'азазаззаза': 371,\n",
       " 'азазазмзаз': 372,\n",
       " 'азалией': 373,\n",
       " 'азалии': 374,\n",
       " 'азалию': 375,\n",
       " 'азалия': 376,\n",
       " 'азартом': 377,\n",
       " 'азахаха': 378,\n",
       " 'азербайджан': 379,\n",
       " 'азербайджане': 380,\n",
       " 'азиат': 381,\n",
       " 'азиаткие': 382,\n",
       " 'азиатов': 383,\n",
       " 'азиатский': 384,\n",
       " 'азиатскоамериканское': 385,\n",
       " 'азии': 386,\n",
       " 'азилию': 387,\n",
       " 'азино': 388,\n",
       " 'азию': 389,\n",
       " 'азия': 390,\n",
       " 'азкабане': 391,\n",
       " 'азнавур': 392,\n",
       " 'азнавура': 393,\n",
       " 'азпхпхахахахахахахахахахахахахахах': 394,\n",
       " 'аигел': 395,\n",
       " 'ай': 396,\n",
       " 'айв': 397,\n",
       " 'айгуль': 398,\n",
       " 'айда': 399,\n",
       " 'айдан': 400,\n",
       " 'айдол': 401,\n",
       " 'айдолов': 402,\n",
       " 'айеро': 403,\n",
       " 'айз': 404,\n",
       " 'айзек': 405,\n",
       " 'айкью': 406,\n",
       " 'айл': 407,\n",
       " 'айлин': 408,\n",
       " 'айлиш': 409,\n",
       " 'айлишмаятник': 410,\n",
       " 'айм': 411,\n",
       " 'аймэикс': 412,\n",
       " 'айнарин': 413,\n",
       " 'айнута': 414,\n",
       " 'айовы': 415,\n",
       " 'айоки': 416,\n",
       " 'айпад': 417,\n",
       " 'айпада': 418,\n",
       " 'айпод': 419,\n",
       " 'айпода': 420,\n",
       " 'айподе': 421,\n",
       " 'айподик': 422,\n",
       " 'айпэд': 423,\n",
       " 'айпэде': 424,\n",
       " 'айронс': 425,\n",
       " 'айс': 426,\n",
       " 'айсак': 427,\n",
       " 'айспик': 428,\n",
       " 'айтипедия': 429,\n",
       " 'айтюнс': 430,\n",
       " 'айтюнсе': 431,\n",
       " 'айф': 432,\n",
       " 'айфон': 433,\n",
       " 'айфона': 434,\n",
       " 'айфонами': 435,\n",
       " 'айфонах': 436,\n",
       " 'айфоне': 437,\n",
       " 'айфоном': 438,\n",
       " 'айфономна': 439,\n",
       " 'айфоны': 440,\n",
       " 'айяйяй': 441,\n",
       " 'айяяй': 442,\n",
       " 'ак': 443,\n",
       " 'ака': 444,\n",
       " 'академией': 445,\n",
       " 'академической': 446,\n",
       " 'академическую': 447,\n",
       " 'академию': 448,\n",
       " 'академия': 449,\n",
       " 'акаме': 450,\n",
       " 'акапелльно': 451,\n",
       " 'акацки': 452,\n",
       " 'аквариум': 453,\n",
       " 'аквариуме': 454,\n",
       " 'аквы': 455,\n",
       " 'аки': 456,\n",
       " 'акило': 457,\n",
       " 'акилосейчас': 458,\n",
       " 'акинфеева': 459,\n",
       " 'акк': 460,\n",
       " 'аккаунт': 461,\n",
       " 'аккаунта': 462,\n",
       " 'аккаунте': 463,\n",
       " 'аккаунтов': 464,\n",
       " 'аккаунты': 465,\n",
       " 'аккорд': 466,\n",
       " 'аккорда': 467,\n",
       " 'аккордах': 468,\n",
       " 'аккордеонист': 469,\n",
       " 'аккордов': 470,\n",
       " 'аккордом': 471,\n",
       " 'аккорды': 472,\n",
       " 'аккредиацию': 473,\n",
       " 'аккредитацией': 474,\n",
       " 'аккредитации': 475,\n",
       " 'аккредитацию': 476,\n",
       " 'аккумулятор': 477,\n",
       " 'аккурат': 478,\n",
       " 'аккуратнее': 479,\n",
       " 'аккуратненько': 480,\n",
       " 'аккуратно': 481,\n",
       " 'акред': 482,\n",
       " 'аксел': 483,\n",
       " 'аксинья': 484,\n",
       " 'аксиома': 485,\n",
       " 'акт': 486,\n",
       " 'актах': 487,\n",
       " 'актер': 488,\n",
       " 'актера': 489,\n",
       " 'актерской': 490,\n",
       " 'актеры': 491,\n",
       " 'активен': 492,\n",
       " 'активистов': 493,\n",
       " 'активистоксамодеятелей': 494,\n",
       " 'активисты': 495,\n",
       " 'активна': 496,\n",
       " 'активнее': 497,\n",
       " 'активничал': 498,\n",
       " 'активно': 499,\n",
       " 'активностей': 500,\n",
       " 'активности': 501,\n",
       " 'активность': 502,\n",
       " 'активностямиобсуждениями': 503,\n",
       " 'активную': 504,\n",
       " 'активные': 505,\n",
       " 'активный': 506,\n",
       " 'актовом': 507,\n",
       " 'актом': 508,\n",
       " 'актуален': 509,\n",
       " 'актуаленнет': 510,\n",
       " 'актуальна': 511,\n",
       " 'актуальная': 512,\n",
       " 'актуальнее': 513,\n",
       " 'актуально': 514,\n",
       " 'актуальное': 515,\n",
       " 'актуальной': 516,\n",
       " 'актуальности': 517,\n",
       " 'актуальность': 518,\n",
       " 'актуальную': 519,\n",
       " 'актуальны': 520,\n",
       " 'актуальные': 521,\n",
       " 'актуальный': 522,\n",
       " 'актуальным': 523,\n",
       " 'актуальными': 524,\n",
       " 'актуальных': 525,\n",
       " 'актёр': 526,\n",
       " 'актёра': 527,\n",
       " 'актёров': 528,\n",
       " 'акуило': 529,\n",
       " 'акустик': 530,\n",
       " 'акустика': 531,\n",
       " 'акустике': 532,\n",
       " 'акустики': 533,\n",
       " 'акустикой': 534,\n",
       " 'акустику': 535,\n",
       " 'акустические': 536,\n",
       " 'акустический': 537,\n",
       " 'акустических': 538,\n",
       " 'акустической': 539,\n",
       " 'акустическую': 540,\n",
       " 'акцент': 541,\n",
       " 'акцентов': 542,\n",
       " 'акцентом': 543,\n",
       " 'акции': 544,\n",
       " 'акций': 545,\n",
       " 'акционизма': 546,\n",
       " 'акцию': 547,\n",
       " 'акция': 548,\n",
       " 'акциям': 549,\n",
       " 'акциях': 550,\n",
       " 'аладдин': 551,\n",
       " 'алаи': 552,\n",
       " 'алан': 553,\n",
       " 'алана': 554,\n",
       " 'албарн': 555,\n",
       " 'албарна': 556,\n",
       " 'албарне': 557,\n",
       " 'албарном': 558,\n",
       " 'албарну': 559,\n",
       " 'алгоритм': 560,\n",
       " 'але': 561,\n",
       " 'алекс': 562,\n",
       " 'алекса': 563,\n",
       " 'александера': 564,\n",
       " 'александр': 565,\n",
       " 'александра': 566,\n",
       " 'александрии': 567,\n",
       " 'александрию': 568,\n",
       " 'александрия': 569,\n",
       " 'александров': 570,\n",
       " 'александрович': 571,\n",
       " 'александром': 572,\n",
       " 'алексвуди': 573,\n",
       " 'алексеева': 574,\n",
       " 'алексей': 575,\n",
       " 'алексею': 576,\n",
       " 'алексом': 577,\n",
       " 'алексы': 578,\n",
       " 'алена': 579,\n",
       " 'алены': 580,\n",
       " 'алесторм': 581,\n",
       " 'алесторма': 582,\n",
       " 'алешка': 583,\n",
       " 'алик': 584,\n",
       " 'алика': 585,\n",
       " 'алина': 586,\n",
       " 'алиночка': 587,\n",
       " 'алиса': 588,\n",
       " 'алиска': 589,\n",
       " 'алису': 590,\n",
       " 'алисы': 591,\n",
       " 'алиэкспресс': 592,\n",
       " 'алиэкспрессе': 593,\n",
       " 'алкаш': 594,\n",
       " 'алкашами': 595,\n",
       " 'алкашей': 596,\n",
       " 'алкашек': 597,\n",
       " 'алкаши': 598,\n",
       " 'алкашкой': 599,\n",
       " 'алкашку': 600,\n",
       " 'алкашом': 601,\n",
       " 'алкаштехнарь': 602,\n",
       " 'алко': 603,\n",
       " 'алкобренда': 604,\n",
       " 'алкоголе': 605,\n",
       " 'алкоголем': 606,\n",
       " 'алкоголик': 607,\n",
       " 'алкоголиками': 608,\n",
       " 'алкоголики': 609,\n",
       " 'алкоголикив': 610,\n",
       " 'алкоголиков': 611,\n",
       " 'алкоголь': 612,\n",
       " 'алкоголю': 613,\n",
       " 'алкоголя': 614,\n",
       " 'алкокор': 615,\n",
       " 'алкокора': 616,\n",
       " 'алкокорной': 617,\n",
       " 'алкокорфэмили': 618,\n",
       " 'алконавтов': 619,\n",
       " 'алкоперерабатывающие': 620,\n",
       " 'алкопоп': 621,\n",
       " 'алкохардкор': 622,\n",
       " 'алла': 623,\n",
       " 'аллах': 624,\n",
       " 'аллегрова': 625,\n",
       " 'аллегровой': 626,\n",
       " 'аллегрову': 627,\n",
       " 'аллеи': 628,\n",
       " 'аллен': 629,\n",
       " 'аллергиков': 630,\n",
       " 'аллергия': 631,\n",
       " 'аллилуйю': 632,\n",
       " 'аллилуйя': 633,\n",
       " 'алллооо': 634,\n",
       " 'алло': 635,\n",
       " 'аллой': 636,\n",
       " 'аллопри': 637,\n",
       " 'аллу': 638,\n",
       " 'аллы': 639,\n",
       " 'алмате': 640,\n",
       " 'ало': 641,\n",
       " 'алоха': 642,\n",
       " 'алсо': 643,\n",
       " 'алтарю': 644,\n",
       " 'алтуфьево': 645,\n",
       " 'алферовна': 646,\n",
       " 'алхимии': 647,\n",
       " 'алхимик': 648,\n",
       " 'альб': 649,\n",
       " 'альберта': 650,\n",
       " 'альбина': 651,\n",
       " 'альбом': 652,\n",
       " 'альбома': 653,\n",
       " 'альбомаберут': 654,\n",
       " 'альбомаего': 655,\n",
       " 'альбомам': 656,\n",
       " 'альбомами': 657,\n",
       " 'альбомано': 658,\n",
       " 'альбомасказали': 659,\n",
       " 'альбомах': 660,\n",
       " 'альбомбатерс': 661,\n",
       " 'альбомбудем': 662,\n",
       " 'альбомгоголь': 663,\n",
       " 'альбоме': 664,\n",
       " 'альбомкогда': 665,\n",
       " 'альбомно': 666,\n",
       " 'альбомной': 667,\n",
       " 'альбомных': 668,\n",
       " 'альбомов': 669,\n",
       " 'альбомови': 670,\n",
       " 'альбомовмне': 671,\n",
       " 'альбомом': 672,\n",
       " 'альбомостановилась': 673,\n",
       " 'альбомсборник': 674,\n",
       " 'альбомто': 675,\n",
       " 'альбому': 676,\n",
       " 'альбомче': 677,\n",
       " 'альбомчег': 678,\n",
       " 'альбомчик': 679,\n",
       " 'альбомы': 680,\n",
       " 'альбомыиначе': 681,\n",
       " 'альбум': 682,\n",
       " 'альдебаран': 683,\n",
       " 'альт': 684,\n",
       " 'альтджей': 685,\n",
       " 'альтер': 686,\n",
       " 'альтернатив': 687,\n",
       " 'альтернатива': 688,\n",
       " 'альтернативная': 689,\n",
       " 'альтернативной': 690,\n",
       " 'альтернативном': 691,\n",
       " 'альтернативную': 692,\n",
       " 'альтернативные': 693,\n",
       " 'альтернативный': 694,\n",
       " 'альтернативой': 695,\n",
       " 'альтернативу': 696,\n",
       " 'альтернативщиков': 697,\n",
       " 'альтистов': 698,\n",
       " 'альтруистомпункт': 699,\n",
       " 'альфа': 700,\n",
       " 'альфабанк': 701,\n",
       " 'альфе': 702,\n",
       " 'альхарам': 703,\n",
       " 'альцгеймер': 704,\n",
       " 'алюминь': 705,\n",
       " 'аля': 706,\n",
       " 'алядемократия': 707,\n",
       " 'алё': 708,\n",
       " 'алёна': 709,\n",
       " 'алёнка': 710,\n",
       " 'алёнушки': 711,\n",
       " 'алёшу': 712,\n",
       " 'ам': 713,\n",
       " 'амазона': 714,\n",
       " 'амазонс': 715,\n",
       " 'амальгаме': 716,\n",
       " 'аманды': 717,\n",
       " 'амано': 718,\n",
       " 'амарант': 719,\n",
       " 'амарантов': 720,\n",
       " 'аматори': 721,\n",
       " 'амбициозного': 722,\n",
       " 'амбреллу': 723,\n",
       " 'амейджин': 724,\n",
       " 'америка': 725,\n",
       " 'американец': 726,\n",
       " 'американка': 727,\n",
       " 'американская': 728,\n",
       " 'американские': 729,\n",
       " 'американский': 730,\n",
       " 'американским': 731,\n",
       " 'американскими': 732,\n",
       " 'американских': 733,\n",
       " 'американского': 734,\n",
       " 'американской': 735,\n",
       " 'американском': 736,\n",
       " 'американскую': 737,\n",
       " 'американцев': 738,\n",
       " 'американцы': 739,\n",
       " 'америке': 740,\n",
       " 'америкелучше': 741,\n",
       " 'америки': 742,\n",
       " 'америку': 743,\n",
       " 'америкэн': 744,\n",
       " 'ами': 745,\n",
       " 'амигос': 746,\n",
       " 'амиксином': 747,\n",
       " 'амина': 748,\n",
       " 'аминь': 749,\n",
       " 'амнистию': 750,\n",
       " 'амнистия': 751,\n",
       " 'амо': 752,\n",
       " 'амов': 753,\n",
       " 'аморала': 754,\n",
       " 'аморально': 755,\n",
       " 'аморальные': 756,\n",
       " 'аморфность': 757,\n",
       " 'амплитуда': 758,\n",
       " 'амплитудная': 759,\n",
       " 'амплитудой': 760,\n",
       " 'ампутации': 761,\n",
       " 'амстердам': 762,\n",
       " 'амстердама': 763,\n",
       " 'амстердаме': 764,\n",
       " 'амулеты': 765,\n",
       " 'амфетамины': 766,\n",
       " 'амфи': 767,\n",
       " 'амфитеатре': 768,\n",
       " 'амы': 769,\n",
       " 'ан': 770,\n",
       " 'анааондаз': 771,\n",
       " 'анаболиков': 772,\n",
       " 'анаболь': 773,\n",
       " 'анабук': 774,\n",
       " 'анабука': 775,\n",
       " 'анабуке': 776,\n",
       " 'анабуктипа': 777,\n",
       " 'анадырь': 778,\n",
       " 'анаконаз': 779,\n",
       " 'анаконд': 780,\n",
       " 'анакондаз': 781,\n",
       " 'анакондами': 782,\n",
       " 'анаконды': 783,\n",
       " 'анализ': 784,\n",
       " 'анализирует': 785,\n",
       " 'анализы': 786,\n",
       " 'аналитика': 787,\n",
       " 'аналитику': 788,\n",
       " 'аналог': 789,\n",
       " 'аналоги': 790,\n",
       " 'аналогии': 791,\n",
       " 'аналогичная': 792,\n",
       " 'аналогично': 793,\n",
       " 'аналогичное': 794,\n",
       " 'аналогичной': 795,\n",
       " 'аналогичном': 796,\n",
       " 'аналогичный': 797,\n",
       " 'аналогичным': 798,\n",
       " 'аналогичными': 799,\n",
       " 'аналогия': 800,\n",
       " 'аналогов': 801,\n",
       " 'аналогом': 802,\n",
       " 'ананас': 803,\n",
       " 'ананаса': 804,\n",
       " 'ананасами': 805,\n",
       " 'ананасом': 806,\n",
       " 'ананасы': 807,\n",
       " 'анапаолды': 808,\n",
       " 'анапе': 809,\n",
       " 'анархии': 810,\n",
       " 'анархия': 811,\n",
       " 'анастасия': 812,\n",
       " 'анастасья': 813,\n",
       " 'анастезиолога': 814,\n",
       " 'анатолий': 815,\n",
       " 'анатолия': 816,\n",
       " 'анатомии': 817,\n",
       " 'анафеме': 818,\n",
       " 'анбиливбл': 819,\n",
       " 'анваунд': 820,\n",
       " 'ангар': 821,\n",
       " 'ангедонией': 822,\n",
       " 'ангелина': 823,\n",
       " 'ангеловхранителей': 824,\n",
       " 'ангелы': 825,\n",
       " 'ангельские': 826,\n",
       " 'ангиной': 827,\n",
       " 'ангины': 828,\n",
       " 'англ': 829,\n",
       " 'англе': 830,\n",
       " 'англии': 831,\n",
       " 'английски': 832,\n",
       " 'английские': 833,\n",
       " 'английский': 834,\n",
       " 'английским': 835,\n",
       " 'английских': 836,\n",
       " 'английского': 837,\n",
       " 'английской': 838,\n",
       " 'английском': 839,\n",
       " 'английскому': 840,\n",
       " 'англичан': 841,\n",
       " 'англичане': 842,\n",
       " 'англичанин': 843,\n",
       " 'англию': 844,\n",
       " 'англия': 845,\n",
       " 'англоговорящие': 846,\n",
       " 'англоговорящими': 847,\n",
       " 'англоговорящих': 848,\n",
       " 'англорусский': 849,\n",
       " 'англосаксы': 850,\n",
       " 'англоязычное': 851,\n",
       " 'англоязычную': 852,\n",
       " 'англоязычные': 853,\n",
       " 'англоязычных': 854,\n",
       " 'андеграунд': 855,\n",
       " 'андеграунде': 856,\n",
       " 'андеграундмного': 857,\n",
       " 'андеграундом': 858,\n",
       " 'андедами': 859,\n",
       " 'андедах': 860,\n",
       " 'андедахрэпрок': 861,\n",
       " 'андедов': 862,\n",
       " 'андеды': 863,\n",
       " 'андерграунд': 864,\n",
       " 'андерграунда': 865,\n",
       " 'андеркард': 866,\n",
       " 'андеркарде': 867,\n",
       " 'андерсом': 868,\n",
       " 'андерсон': 869,\n",
       " 'андерстейтментомлостпрофетс': 870,\n",
       " 'андерстэнд': 871,\n",
       " 'андертейкер': 872,\n",
       " 'андетах': 873,\n",
       " 'анджелина': 874,\n",
       " 'андисклоузд': 875,\n",
       " 'андреем': 876,\n",
       " 'андрей': 877,\n",
       " 'андрея': 878,\n",
       " 'андроид': 879,\n",
       " 'андроиде': 880,\n",
       " 'андроидконор': 881,\n",
       " 'андроиды': 882,\n",
       " 'андройд': 883,\n",
       " 'андрюша': 884,\n",
       " 'аней': 885,\n",
       " 'анек': 886,\n",
       " 'анекдот': 887,\n",
       " 'анекдоте': 888,\n",
       " 'анекдотов': 889,\n",
       " 'анекдоты': 890,\n",
       " 'анетт': 891,\n",
       " 'анечка': 892,\n",
       " 'ани': 893,\n",
       " 'аниматор': 894,\n",
       " 'анимация': 895,\n",
       " 'аниме': 896,\n",
       " 'анимекроссоверов': 897,\n",
       " 'анимешник': 898,\n",
       " 'анимешниками': 899,\n",
       " 'анимешники': 900,\n",
       " 'анимешников': 901,\n",
       " 'анимированные': 902,\n",
       " 'анкета': 903,\n",
       " 'анкете': 904,\n",
       " 'анкл': 905,\n",
       " 'анна': 906,\n",
       " 'аннамария': 907,\n",
       " 'аннмари': 908,\n",
       " 'анновый': 909,\n",
       " 'аннонс': 910,\n",
       " 'аннораки': 911,\n",
       " 'анну': 912,\n",
       " 'аннушку': 913,\n",
       " 'анны': 914,\n",
       " 'ановый': 915,\n",
       " 'аномально': 916,\n",
       " 'анонизма': 917,\n",
       " 'анонимная': 918,\n",
       " 'анонимно': 919,\n",
       " 'анонимный': 920,\n",
       " 'анонимных': 921,\n",
       " 'анонновый': 922,\n",
       " 'аноновый': 923,\n",
       " 'аноном': 924,\n",
       " 'анонс': 925,\n",
       " 'анонса': 926,\n",
       " 'анонсам': 927,\n",
       " 'анонсами': 928,\n",
       " 'анонсах': 929,\n",
       " 'анонсе': 930,\n",
       " 'анонсик': 931,\n",
       " 'анонсили': 932,\n",
       " 'анонсировал': 933,\n",
       " 'анонсировала': 934,\n",
       " 'анонсировали': 935,\n",
       " 'анонсировались': 936,\n",
       " 'анонсирован': 937,\n",
       " 'анонсирование': 938,\n",
       " 'анонсированная': 939,\n",
       " 'анонсированные': 940,\n",
       " 'анонсированных': 941,\n",
       " 'анонсировано': 942,\n",
       " 'анонсированы': 943,\n",
       " 'анонсировать': 944,\n",
       " 'анонсирует': 945,\n",
       " 'анонсируешь': 946,\n",
       " 'анонсируй': 947,\n",
       " 'анонсируйте': 948,\n",
       " 'анонсируют': 949,\n",
       " 'анонсируются': 950,\n",
       " 'анонсновый': 951,\n",
       " 'анонснутся': 952,\n",
       " 'анонсов': 953,\n",
       " 'анонсом': 954,\n",
       " 'анонсрасходимся': 955,\n",
       " 'анонстеперь': 956,\n",
       " 'анонсу': 957,\n",
       " 'анонсы': 958,\n",
       " 'анорексия': 959,\n",
       " 'анрезистные': 960,\n",
       " 'анриал': 961,\n",
       " 'анрил': 962,\n",
       " 'ансамбль': 963,\n",
       " 'ансамбля': 964,\n",
       " 'антагонизм': 965,\n",
       " 'анталия': 966,\n",
       " 'антарктике': 967,\n",
       " 'антарктические': 968,\n",
       " 'антверп': 969,\n",
       " 'антверпена': 970,\n",
       " 'антверпене': 971,\n",
       " 'антворт': 972,\n",
       " 'антвуд': 973,\n",
       " 'антвурд': 974,\n",
       " 'антиблошиный': 975,\n",
       " 'антигорючей': 976,\n",
       " 'антидепрессанты': 977,\n",
       " 'антидерессантов': 978,\n",
       " 'антидрочер': 979,\n",
       " 'антикварные': 980,\n",
       " 'антимайдан': 981,\n",
       " 'антимонопольная': 982,\n",
       " 'антипиар': 983,\n",
       " 'антипод': 984,\n",
       " 'антипозитив': 985,\n",
       " 'антиправительственный': 986,\n",
       " 'антипродажаподдельныхбилетов': 987,\n",
       " 'антирекламой': 988,\n",
       " 'антисоциальным': 989,\n",
       " 'антитрамповские': 990,\n",
       " 'антифризом': 991,\n",
       " 'антихрист': 992,\n",
       " 'антон': 993,\n",
       " 'антона': 994,\n",
       " 'антонова': 995,\n",
       " 'антонович': 996,\n",
       " 'антоха': 997,\n",
       " 'антоху': 998,\n",
       " 'антошка': 999,\n",
       " ...}"
      ]
     },
     "execution_count": 62,
     "metadata": {
      "tags": []
     },
     "output_type": "execute_result"
    }
   ],
   "source": [
    "tokens_to_int"
   ]
  },
  {
   "cell_type": "code",
   "execution_count": 63,
   "metadata": {
    "colab": {
     "base_uri": "https://localhost:8080/",
     "height": 52
    },
    "colab_type": "code",
    "executionInfo": {
     "elapsed": 685,
     "status": "ok",
     "timestamp": 1556790104079,
     "user": {
      "displayName": "Valerie Shelgunova",
      "photoUrl": "https://lh5.googleusercontent.com/-i2CX_QSsamo/AAAAAAAAAAI/AAAAAAAAAB8/YRSVdMujpXw/s64/photo.jpg",
      "userId": "14712883095412086889"
     },
     "user_tz": -180
    },
    "id": "a5k1Q-Fwym0f",
    "outputId": "450be668-56b6-420b-87a2-9636554ceb21"
   },
   "outputs": [
    {
     "name": "stdout",
     "output_type": "stream",
     "text": [
      "Total Words:  443946\n",
      "Total Vocab:  51550\n"
     ]
    }
   ],
   "source": [
    "n_words = len(word_list)\n",
    "n_vocab = len(tokens)\n",
    "print (\"Total Words: \", n_words)\n",
    "print( \"Total Vocab: \", n_vocab)"
   ]
  },
  {
   "cell_type": "code",
   "execution_count": 64,
   "metadata": {
    "colab": {
     "base_uri": "https://localhost:8080/",
     "height": 35
    },
    "colab_type": "code",
    "executionInfo": {
     "elapsed": 8861,
     "status": "ok",
     "timestamp": 1556790210632,
     "user": {
      "displayName": "Valerie Shelgunova",
      "photoUrl": "https://lh5.googleusercontent.com/-i2CX_QSsamo/AAAAAAAAAAI/AAAAAAAAAB8/YRSVdMujpXw/s64/photo.jpg",
      "userId": "14712883095412086889"
     },
     "user_tz": -180
    },
    "id": "QjoFrUGi1ayp",
    "outputId": "6bb2a6f2-ead4-4841-a6a2-920b5775432f"
   },
   "outputs": [
    {
     "name": "stdout",
     "output_type": "stream",
     "text": [
      "Total Patterns:  373908 373908\n"
     ]
    }
   ],
   "source": [
    "seq_length = 2\n",
    "dataX = []\n",
    "dataY = []\n",
    "for el in df.tokens:\n",
    "    raw_text_el = el\n",
    "    n_words_el = len(raw_text_el)\n",
    "    for i in range(0, n_words_el - seq_length, 1): # от нуля до длины последовательности без двух слов\n",
    "\t      seq_in = raw_text_el[i:i + seq_length] # буквы в тексте от i до i+5 (5 букв)\n",
    "\t      seq_out = raw_text_el[i + seq_length] # буква в тексте под номером i+5\n",
    "\t      dataX.append([tokens_to_int[token] for token in seq_in]) # список из списков по 5 закодированных цифрами букв\n",
    "\t      dataY.append(tokens_to_int[seq_out]) # список букв, которые идут после каждой последовательности\n",
    "n_patterns = len(dataX) # все 5-буквенные сочетания \n",
    "print( \"Total Patterns: \", n_patterns, len(dataY)) "
   ]
  },
  {
   "cell_type": "code",
   "execution_count": 0,
   "metadata": {
    "colab": {},
    "colab_type": "code",
    "id": "Sf3ytZnO7kTC"
   },
   "outputs": [],
   "source": [
    "X = numpy.reshape(dataX, (n_patterns, seq_length, 1))\n"
   ]
  },
  {
   "cell_type": "code",
   "execution_count": 0,
   "metadata": {
    "colab": {},
    "colab_type": "code",
    "id": "Z9wMVo7Q7kPt"
   },
   "outputs": [],
   "source": [
    "X = X / float(n_vocab)"
   ]
  },
  {
   "cell_type": "code",
   "execution_count": 0,
   "metadata": {
    "colab": {},
    "colab_type": "code",
    "id": "1avp8Mpo7kCm"
   },
   "outputs": [],
   "source": [
    "# y = np_utils.to_categorical(dataY)"
   ]
  },
  {
   "cell_type": "code",
   "execution_count": 0,
   "metadata": {
    "colab": {},
    "colab_type": "code",
    "id": "mcSoLrFH7zXU"
   },
   "outputs": [],
   "source": [
    "y[0]"
   ]
  },
  {
   "cell_type": "code",
   "execution_count": 0,
   "metadata": {
    "colab": {},
    "colab_type": "code",
    "id": "tnGEnuSm7zT9"
   },
   "outputs": [],
   "source": []
  }
 ],
 "metadata": {
  "colab": {
   "name": "gk4z_gen_4_TOKENS.ipynb",
   "provenance": [],
   "version": "0.3.2"
  },
  "kernelspec": {
   "display_name": "Python 3",
   "language": "python",
   "name": "python3"
  },
  "language_info": {
   "codemirror_mode": {
    "name": "ipython",
    "version": 3
   },
   "file_extension": ".py",
   "mimetype": "text/x-python",
   "name": "python",
   "nbconvert_exporter": "python",
   "pygments_lexer": "ipython3",
   "version": "3.7.3"
  }
 },
 "nbformat": 4,
 "nbformat_minor": 1
}
